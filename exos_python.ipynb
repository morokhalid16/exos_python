{
 "cells": [
  {
   "cell_type": "markdown",
   "id": "b0e47ab5",
   "metadata": {},
   "source": [
    "# Parenthese"
   ]
  },
  {
   "cell_type": "code",
   "execution_count": 51,
   "id": "be8c3343",
   "metadata": {},
   "outputs": [],
   "source": [
    "def balanced_paranthese(string, i=0, cnt=0):\n",
    "    \"\"\" Exo parenthese\n",
    "given a word mot that contains ( or ), write a function that retuns true if mot is balanced and false if not balanced \n",
    "balanced means when ever mot contains opening parenthese, there is a closing one for that one\n",
    "\"\"\"\n",
    "    if i ==  len(string):\n",
    "        return cnt == 0\n",
    "    if cnt < 0 :\n",
    "        return False\n",
    "    if string[i]  == '(':\n",
    "        return balanced_paranthese(string, i+1, cnt+1)\n",
    "    elif string[i] == ')':\n",
    "        return balanced_paranthese(string, i+1, cnt-1)\n",
    "    return balanced_paranthese(string, i+1, cnt)\n",
    "   \n"
   ]
  },
  {
   "cell_type": "code",
   "execution_count": 52,
   "id": "864c5a3e",
   "metadata": {},
   "outputs": [
    {
     "data": {
      "text/plain": [
       "False"
      ]
     },
     "execution_count": 52,
     "metadata": {},
     "output_type": "execute_result"
    }
   ],
   "source": [
    "balanced_paranthese('(()()')"
   ]
  },
  {
   "cell_type": "markdown",
   "id": "fa8033fe",
   "metadata": {},
   "source": [
    "# Sorting"
   ]
  },
  {
   "cell_type": "code",
   "execution_count": 53,
   "id": "197fcce4",
   "metadata": {},
   "outputs": [],
   "source": [
    "L = [5, 4, 8, 1, 0]"
   ]
  },
  {
   "cell_type": "code",
   "execution_count": 33,
   "id": "71d5500d",
   "metadata": {},
   "outputs": [],
   "source": [
    "# Bubble sort\n",
    "def bubble_sort(L):\n",
    "    # Complexity O(n**2)\n",
    "    n = len(L)\n",
    "    for i in range(1, n):\n",
    "        for j in range(i):\n",
    "            if L[j] > L[i]:\n",
    "                L_inter = L[j]\n",
    "                L[j] = L[i]\n",
    "                L[i] = L_inter\n",
    "    return L\n",
    "            "
   ]
  },
  {
   "cell_type": "code",
   "execution_count": 34,
   "id": "bb2cc5cf",
   "metadata": {},
   "outputs": [
    {
     "data": {
      "text/plain": [
       "[0, 1, 4, 5, 8]"
      ]
     },
     "execution_count": 34,
     "metadata": {},
     "output_type": "execute_result"
    }
   ],
   "source": [
    "bubble_sort(L)"
   ]
  },
  {
   "cell_type": "code",
   "execution_count": 31,
   "id": "26600e31",
   "metadata": {},
   "outputs": [],
   "source": [
    "# selection sort\n",
    "def selection_sort(L):\n",
    "    # Complexity O(n**2)\n",
    "    n = len(L)\n",
    "    for i in range(n):\n",
    "        min_idx = i\n",
    "        for j in range(i+1, n):\n",
    "            if L[j] < L[min_idx]:\n",
    "                min_idx = j\n",
    "            L[i], L[min_idx] = L[min_idx], L[i]\n",
    "    return L\n",
    "    "
   ]
  },
  {
   "cell_type": "code",
   "execution_count": 32,
   "id": "a0ad1cb6",
   "metadata": {},
   "outputs": [
    {
     "data": {
      "text/plain": [
       "[0, 1, 4, 5, 8]"
      ]
     },
     "execution_count": 32,
     "metadata": {},
     "output_type": "execute_result"
    }
   ],
   "source": [
    "selection_sort(L)"
   ]
  },
  {
   "cell_type": "code",
   "execution_count": 17,
   "id": "a6f18a9b",
   "metadata": {},
   "outputs": [],
   "source": [
    "# Insertion sort\n",
    "def insertion_sort(L):\n",
    "    # Complexity O(n**2)\n",
    "    n = len(L)\n",
    "    for i in range(n):\n",
    "        j = i - 1\n",
    "        current_value = L[i]\n",
    "        while j >= 0 and L[j] > current_value:\n",
    "            L[j+1] = L[j]\n",
    "            j -= 1\n",
    "        L[j+1] = current_value\n",
    "    return L\n",
    "     \n",
    "    \n",
    "        "
   ]
  },
  {
   "cell_type": "code",
   "execution_count": 18,
   "id": "6074ac68",
   "metadata": {},
   "outputs": [
    {
     "data": {
      "text/plain": [
       "[0, 1, 4, 5, 8]"
      ]
     },
     "execution_count": 18,
     "metadata": {},
     "output_type": "execute_result"
    }
   ],
   "source": [
    "insertion_sort(L)"
   ]
  },
  {
   "cell_type": "code",
   "execution_count": 30,
   "id": "08df0dce",
   "metadata": {},
   "outputs": [],
   "source": [
    "# merge sort\n",
    "def merge(left, right):\n",
    "    result = []\n",
    "    i = j = 0\n",
    "    while i < len(left) and j < len(right):\n",
    "        if left[i] < right[j]:\n",
    "            result.append(left[i])\n",
    "            i += 1\n",
    "        else:\n",
    "            result.append(right[j])\n",
    "            j += 1 \n",
    "    # now one of the lists are fully processed\n",
    "    result += left[i:]\n",
    "    result += right[j:]\n",
    "    \n",
    "    return result \n",
    "\n",
    "def merge_sort(L):\n",
    "    # complexity O(nlog(n))\n",
    "    n = len(L)\n",
    "    if n <= 1:\n",
    "        return L\n",
    "    mid = n // 2\n",
    "    left = L[:mid]\n",
    "    right = L[mid:]\n",
    "    return merge( merge_sort(left), merge_sort(right))"
   ]
  },
  {
   "cell_type": "code",
   "execution_count": 29,
   "id": "24e6201f",
   "metadata": {},
   "outputs": [
    {
     "data": {
      "text/plain": [
       "[0, 1, 4, 5, 8]"
      ]
     },
     "execution_count": 29,
     "metadata": {},
     "output_type": "execute_result"
    }
   ],
   "source": [
    "merge_sort(L)"
   ]
  },
  {
   "cell_type": "code",
   "execution_count": 41,
   "id": "913c13cd",
   "metadata": {},
   "outputs": [],
   "source": [
    "def quick_sort(L):\n",
    "    n = len(L)\n",
    "    if n <= 1:\n",
    "        return L\n",
    "    pivot = L[0]\n",
    "    left = [x for x in L[1:] if x < pivot]\n",
    "    right = [x for x in L[1:] if x >= pivot]\n",
    "    return quick_sort(left) + [pivot] + quick_sort(right)"
   ]
  },
  {
   "cell_type": "code",
   "execution_count": 42,
   "id": "06089139",
   "metadata": {},
   "outputs": [
    {
     "data": {
      "text/plain": [
       "[0, 1, 4, 5, 8]"
      ]
     },
     "execution_count": 42,
     "metadata": {},
     "output_type": "execute_result"
    }
   ],
   "source": [
    "quick_sort(L)"
   ]
  },
  {
   "cell_type": "code",
   "execution_count": null,
   "id": "712f278c",
   "metadata": {},
   "outputs": [],
   "source": []
  }
 ],
 "metadata": {
  "kernelspec": {
   "display_name": "Python 3",
   "language": "python",
   "name": "python3"
  },
  "language_info": {
   "codemirror_mode": {
    "name": "ipython",
    "version": 3
   },
   "file_extension": ".py",
   "mimetype": "text/x-python",
   "name": "python",
   "nbconvert_exporter": "python",
   "pygments_lexer": "ipython3",
   "version": "3.7.3"
  }
 },
 "nbformat": 4,
 "nbformat_minor": 5
}
